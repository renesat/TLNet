{
 "cells": [
  {
   "cell_type": "code",
   "execution_count": 1,
   "id": "9e61c886",
   "metadata": {},
   "outputs": [],
   "source": [
    "%load_ext autoreload\n",
    "%autoreload 2"
   ]
  },
  {
   "cell_type": "code",
   "execution_count": 2,
   "id": "50630780",
   "metadata": {},
   "outputs": [],
   "source": [
    "import os\n",
    "import sys\n",
    "sys.path.insert(0, os.path.abspath('../'))"
   ]
  },
  {
   "cell_type": "code",
   "execution_count": 3,
   "id": "89165142",
   "metadata": {},
   "outputs": [],
   "source": [
    "import matplotlib.pyplot as plt\n",
    "from torchvision.io import read_file\n",
    "from PIL import Image, ImageDraw\n",
    "import torch\n",
    "import cv2\n",
    "from torchvision import transforms\n",
    "import numpy as np\n",
    "from pathlib import Path\n",
    "import random"
   ]
  },
  {
   "cell_type": "code",
   "execution_count": 4,
   "id": "b2062189",
   "metadata": {},
   "outputs": [],
   "source": [
    "plt.rcParams[\"figure.dpi\"] = 150"
   ]
  },
  {
   "cell_type": "code",
   "execution_count": 5,
   "id": "7f25faa3",
   "metadata": {},
   "outputs": [],
   "source": [
    "from tlnet.data import LISA, sample_generator\n",
    "from tlnet.model.roi import ROISelector"
   ]
  },
  {
   "cell_type": "code",
   "execution_count": 6,
   "id": "ffff587d",
   "metadata": {},
   "outputs": [],
   "source": [
    "def seed_worker(worker_id):\n",
    "    worker_seed = torch.initial_seed() % 2**32\n",
    "    np.random.seed(worker_seed)\n",
    "    random.seed(worker_seed)"
   ]
  },
  {
   "cell_type": "code",
   "execution_count": 7,
   "id": "d3f6360f",
   "metadata": {},
   "outputs": [],
   "source": [
    "dataset = LISA(\"../data/raw/lisa_tl\", train = True)"
   ]
  },
  {
   "cell_type": "code",
   "execution_count": 8,
   "id": "cd758026",
   "metadata": {},
   "outputs": [],
   "source": [
    "seed_worker(156)"
   ]
  },
  {
   "cell_type": "code",
   "execution_count": 9,
   "id": "eb2fdd94",
   "metadata": {
    "scrolled": true
   },
   "outputs": [
    {
     "name": "stderr",
     "output_type": "stream",
     "text": [
      "100%|███████████████████████████████████████████████████████████████████████████████████████████████████| 2000/2000 [44:46<00:00,  1.34s/it]\n"
     ]
    }
   ],
   "source": [
    "annotation = sample_generator(dataset.annotations, Path(\"../data/proc/ROIs/train\"), shuffle_size=2000)"
   ]
  },
  {
   "cell_type": "code",
   "execution_count": 10,
   "id": "ba42a4dc",
   "metadata": {},
   "outputs": [
    {
     "data": {
      "text/html": [
       "<div>\n",
       "<style scoped>\n",
       "    .dataframe tbody tr th:only-of-type {\n",
       "        vertical-align: middle;\n",
       "    }\n",
       "\n",
       "    .dataframe tbody tr th {\n",
       "        vertical-align: top;\n",
       "    }\n",
       "\n",
       "    .dataframe thead th {\n",
       "        text-align: right;\n",
       "    }\n",
       "</style>\n",
       "<table border=\"1\" class=\"dataframe\">\n",
       "  <thead>\n",
       "    <tr style=\"text-align: right;\">\n",
       "      <th></th>\n",
       "      <th>file</th>\n",
       "      <th>up_x</th>\n",
       "      <th>up_y</th>\n",
       "      <th>down_x</th>\n",
       "      <th>down_y</th>\n",
       "    </tr>\n",
       "  </thead>\n",
       "  <tbody>\n",
       "    <tr>\n",
       "      <th>0</th>\n",
       "      <td>positive/img_dayClip4--00342.jpg_145.png</td>\n",
       "      <td>1</td>\n",
       "      <td>68</td>\n",
       "      <td>37</td>\n",
       "      <td>133</td>\n",
       "    </tr>\n",
       "    <tr>\n",
       "      <th>1</th>\n",
       "      <td>positive/img_dayClip4--00342.jpg_146.png</td>\n",
       "      <td>8</td>\n",
       "      <td>91</td>\n",
       "      <td>44</td>\n",
       "      <td>156</td>\n",
       "    </tr>\n",
       "    <tr>\n",
       "      <th>2</th>\n",
       "      <td>positive/img_dayClip4--00342.jpg_150.png</td>\n",
       "      <td>33</td>\n",
       "      <td>-16</td>\n",
       "      <td>69</td>\n",
       "      <td>49</td>\n",
       "    </tr>\n",
       "    <tr>\n",
       "      <th>3</th>\n",
       "      <td>positive/img_dayClip4--00342.jpg_151.png</td>\n",
       "      <td>-15</td>\n",
       "      <td>30</td>\n",
       "      <td>21</td>\n",
       "      <td>95</td>\n",
       "    </tr>\n",
       "    <tr>\n",
       "      <th>4</th>\n",
       "      <td>positive/img_dayClip11--00144.jpg_307.png</td>\n",
       "      <td>12</td>\n",
       "      <td>13</td>\n",
       "      <td>36</td>\n",
       "      <td>49</td>\n",
       "    </tr>\n",
       "    <tr>\n",
       "      <th>...</th>\n",
       "      <td>...</td>\n",
       "      <td>...</td>\n",
       "      <td>...</td>\n",
       "      <td>...</td>\n",
       "      <td>...</td>\n",
       "    </tr>\n",
       "    <tr>\n",
       "      <th>2657</th>\n",
       "      <td>positive/img_nightClip5--00720.jpg_142445.png</td>\n",
       "      <td>93</td>\n",
       "      <td>9</td>\n",
       "      <td>139</td>\n",
       "      <td>81</td>\n",
       "    </tr>\n",
       "    <tr>\n",
       "      <th>2658</th>\n",
       "      <td>positive/img_nightClip5--00720.jpg_142479.png</td>\n",
       "      <td>68</td>\n",
       "      <td>62</td>\n",
       "      <td>114</td>\n",
       "      <td>146</td>\n",
       "    </tr>\n",
       "    <tr>\n",
       "      <th>2659</th>\n",
       "      <td>positive/img_nightClip5--00720.jpg_142480.png</td>\n",
       "      <td>94</td>\n",
       "      <td>62</td>\n",
       "      <td>140</td>\n",
       "      <td>146</td>\n",
       "    </tr>\n",
       "    <tr>\n",
       "      <th>2660</th>\n",
       "      <td>positive/img_nightClip5--00720.jpg_142484.png</td>\n",
       "      <td>97</td>\n",
       "      <td>62</td>\n",
       "      <td>143</td>\n",
       "      <td>146</td>\n",
       "    </tr>\n",
       "    <tr>\n",
       "      <th>2661</th>\n",
       "      <td>positive/img_nightClip5--00720.jpg_142485.png</td>\n",
       "      <td>84</td>\n",
       "      <td>62</td>\n",
       "      <td>130</td>\n",
       "      <td>146</td>\n",
       "    </tr>\n",
       "  </tbody>\n",
       "</table>\n",
       "<p>2662 rows × 5 columns</p>\n",
       "</div>"
      ],
      "text/plain": [
       "                                               file  up_x  up_y  down_x  \\\n",
       "0          positive/img_dayClip4--00342.jpg_145.png     1    68      37   \n",
       "1          positive/img_dayClip4--00342.jpg_146.png     8    91      44   \n",
       "2          positive/img_dayClip4--00342.jpg_150.png    33   -16      69   \n",
       "3          positive/img_dayClip4--00342.jpg_151.png   -15    30      21   \n",
       "4         positive/img_dayClip11--00144.jpg_307.png    12    13      36   \n",
       "...                                             ...   ...   ...     ...   \n",
       "2657  positive/img_nightClip5--00720.jpg_142445.png    93     9     139   \n",
       "2658  positive/img_nightClip5--00720.jpg_142479.png    68    62     114   \n",
       "2659  positive/img_nightClip5--00720.jpg_142480.png    94    62     140   \n",
       "2660  positive/img_nightClip5--00720.jpg_142484.png    97    62     143   \n",
       "2661  positive/img_nightClip5--00720.jpg_142485.png    84    62     130   \n",
       "\n",
       "      down_y  \n",
       "0        133  \n",
       "1        156  \n",
       "2         49  \n",
       "3         95  \n",
       "4         49  \n",
       "...      ...  \n",
       "2657      81  \n",
       "2658     146  \n",
       "2659     146  \n",
       "2660     146  \n",
       "2661     146  \n",
       "\n",
       "[2662 rows x 5 columns]"
      ]
     },
     "execution_count": 10,
     "metadata": {},
     "output_type": "execute_result"
    }
   ],
   "source": [
    "annotation"
   ]
  },
  {
   "cell_type": "code",
   "execution_count": 11,
   "id": "2b5f531e",
   "metadata": {},
   "outputs": [],
   "source": [
    "annotation.to_csv(Path(\"../data/proc/ROIs/train/annotation.csv\"), index=None)"
   ]
  },
  {
   "cell_type": "code",
   "execution_count": 13,
   "id": "44c97015",
   "metadata": {},
   "outputs": [
    {
     "name": "stderr",
     "output_type": "stream",
     "text": [
      "100%|█████████████████████████████████████████████████████████████████████████████████████████████████████| 500/500 [08:42<00:00,  1.04s/it]\n"
     ]
    }
   ],
   "source": [
    "dataset = LISA(\"../data/raw/lisa_tl\", train = False)\n",
    "seed_worker(305)\n",
    "annotation_test = sample_generator(dataset.annotations, Path(\"../data/proc/ROIs/test\"), shuffle_size=500)\n",
    "annotation_test.to_csv(Path(\"../data/proc/ROIs/test/annotation.csv\"), index=None)"
   ]
  }
 ],
 "metadata": {
  "@webio": {
   "lastCommId": null,
   "lastKernelId": null
  },
  "kernelspec": {
   "display_name": "Python 3 (ipykernel)",
   "language": "python",
   "name": "python3"
  },
  "language_info": {
   "codemirror_mode": {
    "name": "ipython",
    "version": 3
   },
   "file_extension": ".py",
   "mimetype": "text/x-python",
   "name": "python",
   "nbconvert_exporter": "python",
   "pygments_lexer": "ipython3",
   "version": "3.9.6"
  }
 },
 "nbformat": 4,
 "nbformat_minor": 5
}
